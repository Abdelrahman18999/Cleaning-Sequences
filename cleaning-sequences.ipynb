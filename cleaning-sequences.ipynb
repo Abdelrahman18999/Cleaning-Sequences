{
 "cells": [
  {
   "cell_type": "markdown",
   "id": "promotional-owner",
   "metadata": {},
   "source": [
    "# Cleaning Sequences\n",
    "There are multiple ways of sequencing the steps in your data cleaning process. The **Define**, **Code**, and **Test** Markdown headers were used once in this sequence, with multiple definitions, cleaning operations, and tests under each header, respectively.\n",
    "\n",
    "It looked like this:"
   ]
  },
  {
   "cell_type": "markdown",
   "id": "utility-locking",
   "metadata": {},
   "source": [
    "______"
   ]
  },
  {
   "cell_type": "markdown",
   "id": "prompt-aspect",
   "metadata": {},
   "source": [
    "## Gather"
   ]
  },
  {
   "cell_type": "code",
   "execution_count": 1,
   "id": "piano-geometry",
   "metadata": {},
   "outputs": [],
   "source": [
    "import pandas as pd"
   ]
  },
  {
   "cell_type": "code",
   "execution_count": 2,
   "id": "democratic-occasion",
   "metadata": {},
   "outputs": [],
   "source": [
    "df = pd.read_csv('animals.csv')"
   ]
  },
  {
   "cell_type": "markdown",
   "id": "complete-daisy",
   "metadata": {},
   "source": [
    "## Assess"
   ]
  },
  {
   "cell_type": "code",
   "execution_count": 3,
   "id": "decreased-pregnancy",
   "metadata": {},
   "outputs": [
    {
     "data": {
      "text/html": [
       "<div>\n",
       "<style scoped>\n",
       "    .dataframe tbody tr th:only-of-type {\n",
       "        vertical-align: middle;\n",
       "    }\n",
       "\n",
       "    .dataframe tbody tr th {\n",
       "        vertical-align: top;\n",
       "    }\n",
       "\n",
       "    .dataframe thead th {\n",
       "        text-align: right;\n",
       "    }\n",
       "</style>\n",
       "<table border=\"1\" class=\"dataframe\">\n",
       "  <thead>\n",
       "    <tr style=\"text-align: right;\">\n",
       "      <th></th>\n",
       "      <th>Animal</th>\n",
       "      <th>Body weight (kg)</th>\n",
       "      <th>Brain weight (g)</th>\n",
       "    </tr>\n",
       "  </thead>\n",
       "  <tbody>\n",
       "    <tr>\n",
       "      <th>0</th>\n",
       "      <td>bbMountain beaver</td>\n",
       "      <td>1!35</td>\n",
       "      <td>8!1</td>\n",
       "    </tr>\n",
       "    <tr>\n",
       "      <th>1</th>\n",
       "      <td>bbCow</td>\n",
       "      <td>465</td>\n",
       "      <td>423</td>\n",
       "    </tr>\n",
       "    <tr>\n",
       "      <th>2</th>\n",
       "      <td>bbGrey wolf</td>\n",
       "      <td>36!33</td>\n",
       "      <td>119!5</td>\n",
       "    </tr>\n",
       "    <tr>\n",
       "      <th>3</th>\n",
       "      <td>bbGoat</td>\n",
       "      <td>27!66</td>\n",
       "      <td>115</td>\n",
       "    </tr>\n",
       "    <tr>\n",
       "      <th>4</th>\n",
       "      <td>bbGuinea pig</td>\n",
       "      <td>1!04</td>\n",
       "      <td>5!5</td>\n",
       "    </tr>\n",
       "  </tbody>\n",
       "</table>\n",
       "</div>"
      ],
      "text/plain": [
       "              Animal Body weight (kg) Brain weight (g)\n",
       "0  bbMountain beaver             1!35              8!1\n",
       "1              bbCow              465              423\n",
       "2        bbGrey wolf            36!33            119!5\n",
       "3             bbGoat            27!66              115\n",
       "4       bbGuinea pig             1!04              5!5"
      ]
     },
     "execution_count": 3,
     "metadata": {},
     "output_type": "execute_result"
    }
   ],
   "source": [
    "df.head()"
   ]
  },
  {
   "cell_type": "markdown",
   "id": "related-education",
   "metadata": {},
   "source": [
    "#### Quality\n",
    "- bb before every animal name\n",
    "- ! instead of . for decimal in body weight and brain weight"
   ]
  },
  {
   "cell_type": "markdown",
   "id": "decreased-alias",
   "metadata": {},
   "source": [
    "## Clean"
   ]
  },
  {
   "cell_type": "code",
   "execution_count": 4,
   "id": "prepared-labor",
   "metadata": {},
   "outputs": [],
   "source": [
    "df_clean = df.copy()"
   ]
  },
  {
   "cell_type": "markdown",
   "id": "friendly-richmond",
   "metadata": {},
   "source": [
    "#### Define\n",
    "- Remove 'bb' before every animal name using string slicing\n",
    "- Replace ! with . in body weight and brain weight columns"
   ]
  },
  {
   "cell_type": "markdown",
   "id": "hairy-alarm",
   "metadata": {},
   "source": [
    "#### Code"
   ]
  },
  {
   "cell_type": "code",
   "execution_count": 5,
   "id": "distributed-toyota",
   "metadata": {},
   "outputs": [],
   "source": [
    "# Remove 'bb' before every animal name using string slicing\n",
    "df_clean['Animal'] = df_clean['Animal'].str[2:]"
   ]
  },
  {
   "cell_type": "code",
   "execution_count": 6,
   "id": "other-ireland",
   "metadata": {},
   "outputs": [],
   "source": [
    "# Replace ! with . in body weight and brain weight columns\n",
    "df_clean['Body weight (kg)'] = df_clean['Body weight (kg)'].str.replace('!', '.')\n",
    "df_clean['Brain weight (g)'] = df_clean['Brain weight (g)'].str.replace('!', '.')"
   ]
  },
  {
   "cell_type": "markdown",
   "id": "preceding-favor",
   "metadata": {},
   "source": [
    "#### Test"
   ]
  },
  {
   "cell_type": "code",
   "execution_count": 7,
   "id": "altered-doctor",
   "metadata": {},
   "outputs": [
    {
     "data": {
      "text/html": [
       "<div>\n",
       "<style scoped>\n",
       "    .dataframe tbody tr th:only-of-type {\n",
       "        vertical-align: middle;\n",
       "    }\n",
       "\n",
       "    .dataframe tbody tr th {\n",
       "        vertical-align: top;\n",
       "    }\n",
       "\n",
       "    .dataframe thead th {\n",
       "        text-align: right;\n",
       "    }\n",
       "</style>\n",
       "<table border=\"1\" class=\"dataframe\">\n",
       "  <thead>\n",
       "    <tr style=\"text-align: right;\">\n",
       "      <th></th>\n",
       "      <th>Animal</th>\n",
       "      <th>Body weight (kg)</th>\n",
       "      <th>Brain weight (g)</th>\n",
       "    </tr>\n",
       "  </thead>\n",
       "  <tbody>\n",
       "    <tr>\n",
       "      <th>0</th>\n",
       "      <td>Mountain beaver</td>\n",
       "      <td>1.35</td>\n",
       "      <td>8.1</td>\n",
       "    </tr>\n",
       "    <tr>\n",
       "      <th>1</th>\n",
       "      <td>Cow</td>\n",
       "      <td>465</td>\n",
       "      <td>423</td>\n",
       "    </tr>\n",
       "    <tr>\n",
       "      <th>2</th>\n",
       "      <td>Grey wolf</td>\n",
       "      <td>36.33</td>\n",
       "      <td>119.5</td>\n",
       "    </tr>\n",
       "    <tr>\n",
       "      <th>3</th>\n",
       "      <td>Goat</td>\n",
       "      <td>27.66</td>\n",
       "      <td>115</td>\n",
       "    </tr>\n",
       "    <tr>\n",
       "      <th>4</th>\n",
       "      <td>Guinea pig</td>\n",
       "      <td>1.04</td>\n",
       "      <td>5.5</td>\n",
       "    </tr>\n",
       "  </tbody>\n",
       "</table>\n",
       "</div>"
      ],
      "text/plain": [
       "            Animal Body weight (kg) Brain weight (g)\n",
       "0  Mountain beaver             1.35              8.1\n",
       "1              Cow              465              423\n",
       "2        Grey wolf            36.33            119.5\n",
       "3             Goat            27.66              115\n",
       "4       Guinea pig             1.04              5.5"
      ]
     },
     "execution_count": 7,
     "metadata": {},
     "output_type": "execute_result"
    }
   ],
   "source": [
    "df_clean.head()"
   ]
  },
  {
   "cell_type": "code",
   "execution_count": null,
   "id": "expired-beijing",
   "metadata": {},
   "outputs": [],
   "source": []
  }
 ],
 "metadata": {
  "kernelspec": {
   "display_name": "Python 3",
   "language": "python",
   "name": "python3"
  },
  "language_info": {
   "codemirror_mode": {
    "name": "ipython",
    "version": 3
   },
   "file_extension": ".py",
   "mimetype": "text/x-python",
   "name": "python",
   "nbconvert_exporter": "python",
   "pygments_lexer": "ipython3",
   "version": "3.7.4"
  }
 },
 "nbformat": 4,
 "nbformat_minor": 5
}
